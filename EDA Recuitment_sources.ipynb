{
 "cells": [
  {
   "cell_type": "code",
   "execution_count": 1,
   "id": "91def8ee",
   "metadata": {},
   "outputs": [],
   "source": [
    "import pandas as pd\n",
    "import numpy as np\n",
    "import matplotlib.pyplot as plt\n",
    "import seaborn as sn"
   ]
  },
  {
   "cell_type": "code",
   "execution_count": 2,
   "id": "cb792355",
   "metadata": {},
   "outputs": [],
   "source": [
    "#Reading the data\n",
    "df=pd.read_csv(r\"G:\\LILTHOMA\\Rise_Wpu\\Mentor_Mind\\Identify_the_best_source_of_recruitment_for_a_tech_startup_Python\\Recruitment_Data.csv\")"
   ]
  },
  {
   "cell_type": "code",
   "execution_count": 3,
   "id": "a2ef456e",
   "metadata": {},
   "outputs": [
    {
     "data": {
      "text/plain": [
       "(446, 4)"
      ]
     },
     "execution_count": 3,
     "metadata": {},
     "output_type": "execute_result"
    }
   ],
   "source": [
    "#Dimenisions of the data\n",
    "df.shape"
   ]
  },
  {
   "cell_type": "code",
   "execution_count": 4,
   "id": "30d7bdf2",
   "metadata": {},
   "outputs": [
    {
     "data": {
      "text/html": [
       "<div>\n",
       "<style scoped>\n",
       "    .dataframe tbody tr th:only-of-type {\n",
       "        vertical-align: middle;\n",
       "    }\n",
       "\n",
       "    .dataframe tbody tr th {\n",
       "        vertical-align: top;\n",
       "    }\n",
       "\n",
       "    .dataframe thead th {\n",
       "        text-align: right;\n",
       "    }\n",
       "</style>\n",
       "<table border=\"1\" class=\"dataframe\">\n",
       "  <thead>\n",
       "    <tr style=\"text-align: right;\">\n",
       "      <th></th>\n",
       "      <th>attrition</th>\n",
       "      <th>performance_rating</th>\n",
       "      <th>sales_quota_pct</th>\n",
       "      <th>recruiting_source</th>\n",
       "    </tr>\n",
       "  </thead>\n",
       "  <tbody>\n",
       "    <tr>\n",
       "      <th>0</th>\n",
       "      <td>1</td>\n",
       "      <td>3</td>\n",
       "      <td>1.088190</td>\n",
       "      <td>Applied Online</td>\n",
       "    </tr>\n",
       "    <tr>\n",
       "      <th>1</th>\n",
       "      <td>0</td>\n",
       "      <td>3</td>\n",
       "      <td>2.394173</td>\n",
       "      <td>NaN</td>\n",
       "    </tr>\n",
       "    <tr>\n",
       "      <th>2</th>\n",
       "      <td>1</td>\n",
       "      <td>2</td>\n",
       "      <td>0.497530</td>\n",
       "      <td>Campus</td>\n",
       "    </tr>\n",
       "    <tr>\n",
       "      <th>3</th>\n",
       "      <td>0</td>\n",
       "      <td>2</td>\n",
       "      <td>2.513958</td>\n",
       "      <td>NaN</td>\n",
       "    </tr>\n",
       "    <tr>\n",
       "      <th>4</th>\n",
       "      <td>0</td>\n",
       "      <td>3</td>\n",
       "      <td>1.424789</td>\n",
       "      <td>Applied Online</td>\n",
       "    </tr>\n",
       "  </tbody>\n",
       "</table>\n",
       "</div>"
      ],
      "text/plain": [
       "   attrition  performance_rating  sales_quota_pct recruiting_source\n",
       "0          1                   3         1.088190    Applied Online\n",
       "1          0                   3         2.394173               NaN\n",
       "2          1                   2         0.497530            Campus\n",
       "3          0                   2         2.513958               NaN\n",
       "4          0                   3         1.424789    Applied Online"
      ]
     },
     "execution_count": 4,
     "metadata": {},
     "output_type": "execute_result"
    }
   ],
   "source": [
    "#Viewing the first 5 rows\n",
    "df.head()"
   ]
  },
  {
   "cell_type": "code",
   "execution_count": 5,
   "id": "b69986c0",
   "metadata": {},
   "outputs": [
    {
     "data": {
      "text/html": [
       "<div>\n",
       "<style scoped>\n",
       "    .dataframe tbody tr th:only-of-type {\n",
       "        vertical-align: middle;\n",
       "    }\n",
       "\n",
       "    .dataframe tbody tr th {\n",
       "        vertical-align: top;\n",
       "    }\n",
       "\n",
       "    .dataframe thead th {\n",
       "        text-align: right;\n",
       "    }\n",
       "</style>\n",
       "<table border=\"1\" class=\"dataframe\">\n",
       "  <thead>\n",
       "    <tr style=\"text-align: right;\">\n",
       "      <th></th>\n",
       "      <th>attrition</th>\n",
       "      <th>performance_rating</th>\n",
       "      <th>sales_quota_pct</th>\n",
       "    </tr>\n",
       "  </thead>\n",
       "  <tbody>\n",
       "    <tr>\n",
       "      <th>count</th>\n",
       "      <td>446.000000</td>\n",
       "      <td>446.000000</td>\n",
       "      <td>446.000000</td>\n",
       "    </tr>\n",
       "    <tr>\n",
       "      <th>mean</th>\n",
       "      <td>0.213004</td>\n",
       "      <td>2.894619</td>\n",
       "      <td>1.082607</td>\n",
       "    </tr>\n",
       "    <tr>\n",
       "      <th>std</th>\n",
       "      <td>0.409891</td>\n",
       "      <td>0.683755</td>\n",
       "      <td>0.710042</td>\n",
       "    </tr>\n",
       "    <tr>\n",
       "      <th>min</th>\n",
       "      <td>0.000000</td>\n",
       "      <td>1.000000</td>\n",
       "      <td>-0.710827</td>\n",
       "    </tr>\n",
       "    <tr>\n",
       "      <th>25%</th>\n",
       "      <td>0.000000</td>\n",
       "      <td>2.000000</td>\n",
       "      <td>0.584444</td>\n",
       "    </tr>\n",
       "    <tr>\n",
       "      <th>50%</th>\n",
       "      <td>0.000000</td>\n",
       "      <td>3.000000</td>\n",
       "      <td>1.070143</td>\n",
       "    </tr>\n",
       "    <tr>\n",
       "      <th>75%</th>\n",
       "      <td>0.000000</td>\n",
       "      <td>3.000000</td>\n",
       "      <td>1.532488</td>\n",
       "    </tr>\n",
       "    <tr>\n",
       "      <th>max</th>\n",
       "      <td>1.000000</td>\n",
       "      <td>5.000000</td>\n",
       "      <td>3.666740</td>\n",
       "    </tr>\n",
       "  </tbody>\n",
       "</table>\n",
       "</div>"
      ],
      "text/plain": [
       "        attrition  performance_rating  sales_quota_pct\n",
       "count  446.000000          446.000000       446.000000\n",
       "mean     0.213004            2.894619         1.082607\n",
       "std      0.409891            0.683755         0.710042\n",
       "min      0.000000            1.000000        -0.710827\n",
       "25%      0.000000            2.000000         0.584444\n",
       "50%      0.000000            3.000000         1.070143\n",
       "75%      0.000000            3.000000         1.532488\n",
       "max      1.000000            5.000000         3.666740"
      ]
     },
     "execution_count": 5,
     "metadata": {},
     "output_type": "execute_result"
    }
   ],
   "source": [
    "#Summary statistics of the date\n",
    "df.describe()"
   ]
  },
  {
   "cell_type": "markdown",
   "id": "4517c791",
   "metadata": {},
   "source": [
    "# EDA"
   ]
  },
  {
   "cell_type": "code",
   "execution_count": 6,
   "id": "c7d917ec",
   "metadata": {},
   "outputs": [
    {
     "data": {
      "text/plain": [
       "attrition               0\n",
       "performance_rating      0\n",
       "sales_quota_pct         0\n",
       "recruiting_source     205\n",
       "dtype: int64"
      ]
     },
     "execution_count": 6,
     "metadata": {},
     "output_type": "execute_result"
    }
   ],
   "source": [
    "df.isna().sum()"
   ]
  },
  {
   "cell_type": "code",
   "execution_count": 7,
   "id": "2d653b6d",
   "metadata": {},
   "outputs": [
    {
     "data": {
      "text/plain": [
       "array(['Applied Online', nan, 'Campus', 'Referral', 'Search Firm'],\n",
       "      dtype=object)"
      ]
     },
     "execution_count": 7,
     "metadata": {},
     "output_type": "execute_result"
    }
   ],
   "source": [
    "#Checking the unique values in recruitment_source column where we have missing values\n",
    "df['recruiting_source'].unique()"
   ]
  },
  {
   "cell_type": "code",
   "execution_count": 8,
   "id": "b67d0d75",
   "metadata": {},
   "outputs": [
    {
     "data": {
      "text/plain": [
       "0"
      ]
     },
     "execution_count": 8,
     "metadata": {},
     "output_type": "execute_result"
    }
   ],
   "source": [
    "#Checking if the dataset contains duplicate values\n",
    "df.duplicated().sum()"
   ]
  },
  {
   "cell_type": "code",
   "execution_count": 9,
   "id": "fefd6a08",
   "metadata": {},
   "outputs": [
    {
     "name": "stdout",
     "output_type": "stream",
     "text": [
      "There is  46% data missing from recruiting_source\n"
     ]
    }
   ],
   "source": [
    "missing_perct=round(df['recruiting_source'].isna().sum()/len(df)*100)\n",
    "print(f\"There is  {missing_perct}% data missing from recruiting_source\")"
   ]
  },
  {
   "cell_type": "code",
   "execution_count": 12,
   "id": "53e1fa1c",
   "metadata": {},
   "outputs": [],
   "source": [
    "#Imputing the missing values with Clusturing Techniques or other algorithm is olso a good option\n",
    "#Here i think that as 46 % of values are missing there is a higher chance of underfitting and bias"
   ]
  },
  {
   "cell_type": "code",
   "execution_count": 10,
   "id": "039f42a4",
   "metadata": {},
   "outputs": [],
   "source": [
    "#Lets Take NA values as Walk In\n",
    "df.fillna(\"Walk In\",inplace=True)"
   ]
  },
  {
   "cell_type": "code",
   "execution_count": 11,
   "id": "8a7b198b",
   "metadata": {},
   "outputs": [],
   "source": [
    "#Before Removing the Na values leets group the dataset with the NA values present and see if it checks out\n",
    "grouped=df.groupby(\"recruiting_source\").agg(\n",
    "    total_attrition=(\"attrition\",\"sum\"),\n",
    "    total_recruites=(\"attrition\",\"count\"),\n",
    "    average_sales=(\"sales_quota_pct\",\"mean\")\n",
    ").reset_index()\n",
    "grouped['average_attrition']=round(grouped['total_attrition']/grouped['total_recruites']*100,2)"
   ]
  },
  {
   "cell_type": "code",
   "execution_count": 12,
   "id": "35daefb4",
   "metadata": {},
   "outputs": [
    {
     "data": {
      "text/html": [
       "<div>\n",
       "<style scoped>\n",
       "    .dataframe tbody tr th:only-of-type {\n",
       "        vertical-align: middle;\n",
       "    }\n",
       "\n",
       "    .dataframe tbody tr th {\n",
       "        vertical-align: top;\n",
       "    }\n",
       "\n",
       "    .dataframe thead th {\n",
       "        text-align: right;\n",
       "    }\n",
       "</style>\n",
       "<table border=\"1\" class=\"dataframe\">\n",
       "  <thead>\n",
       "    <tr style=\"text-align: right;\">\n",
       "      <th></th>\n",
       "      <th>recruiting_source</th>\n",
       "      <th>total_attrition</th>\n",
       "      <th>total_recruites</th>\n",
       "      <th>average_sales</th>\n",
       "      <th>average_attrition</th>\n",
       "    </tr>\n",
       "  </thead>\n",
       "  <tbody>\n",
       "    <tr>\n",
       "      <th>4</th>\n",
       "      <td>Walk In</td>\n",
       "      <td>27</td>\n",
       "      <td>205</td>\n",
       "      <td>1.168109</td>\n",
       "      <td>13.17</td>\n",
       "    </tr>\n",
       "    <tr>\n",
       "      <th>0</th>\n",
       "      <td>Applied Online</td>\n",
       "      <td>32</td>\n",
       "      <td>130</td>\n",
       "      <td>1.058590</td>\n",
       "      <td>24.62</td>\n",
       "    </tr>\n",
       "    <tr>\n",
       "      <th>2</th>\n",
       "      <td>Referral</td>\n",
       "      <td>15</td>\n",
       "      <td>45</td>\n",
       "      <td>1.023198</td>\n",
       "      <td>33.33</td>\n",
       "    </tr>\n",
       "    <tr>\n",
       "      <th>1</th>\n",
       "      <td>Campus</td>\n",
       "      <td>16</td>\n",
       "      <td>56</td>\n",
       "      <td>0.908035</td>\n",
       "      <td>28.57</td>\n",
       "    </tr>\n",
       "    <tr>\n",
       "      <th>3</th>\n",
       "      <td>Search Firm</td>\n",
       "      <td>5</td>\n",
       "      <td>10</td>\n",
       "      <td>0.886960</td>\n",
       "      <td>50.00</td>\n",
       "    </tr>\n",
       "  </tbody>\n",
       "</table>\n",
       "</div>"
      ],
      "text/plain": [
       "  recruiting_source  total_attrition  total_recruites  average_sales  \\\n",
       "4           Walk In               27              205       1.168109   \n",
       "0    Applied Online               32              130       1.058590   \n",
       "2          Referral               15               45       1.023198   \n",
       "1            Campus               16               56       0.908035   \n",
       "3       Search Firm                5               10       0.886960   \n",
       "\n",
       "   average_attrition  \n",
       "4              13.17  \n",
       "0              24.62  \n",
       "2              33.33  \n",
       "1              28.57  \n",
       "3              50.00  "
      ]
     },
     "execution_count": 12,
     "metadata": {},
     "output_type": "execute_result"
    }
   ],
   "source": [
    "'''\n",
    "*Most of the recruits by the company is Walkin followed by online recurits\n",
    "*These Walk In in hires also have the highest averge_sales followed by online recurits\n",
    "*Walk In interviews have the most less average attrition followed by online recuits\n",
    "'''\n",
    "#We will sort the dataframe to find the recuriting_source with lowest attrition  rate and high average sales\n",
    "grouped.sort_values(by=[\"average_sales\",\"average_attrition\"],ascending=[0,1])"
   ]
  },
  {
   "cell_type": "code",
   "execution_count": 45,
   "id": "5ff836f3",
   "metadata": {},
   "outputs": [
    {
     "data": {
      "text/plain": [
       "Text(0, 0.5, 'Average_Attrition')"
      ]
     },
     "execution_count": 45,
     "metadata": {},
     "output_type": "execute_result"
    },
    {
     "data": {
      "image/png": "[encoded data removed]",
      "text/plain": [
       "<Figure size 1500x500 with 1 Axes>"
      ]
     },
     "metadata": {},
     "output_type": "display_data"
    }
   ],
   "source": [
    "plt.figure(figsize=(15,5))\n",
    "sn.barplot(data=grouped,x=\"recruiting_source\",y=\"average_attrition\",\n",
    "          order=grouped.sort_values(\"average_attrition\").recruiting_source)\n",
    "plt.title(\"Average Attrition by Recruiting source\")\n",
    "plt.xlabel(\"Recruiting_Source\")\n",
    "plt.ylabel(\"Average_Attrition\")"
   ]
  },
  {
   "cell_type": "code",
   "execution_count": 47,
   "id": "d0d1179e",
   "metadata": {},
   "outputs": [
    {
     "data": {
      "text/plain": [
       "Text(0, 0.5, 'Average_Sales')"
      ]
     },
     "execution_count": 47,
     "metadata": {},
     "output_type": "execute_result"
    },
    {
     "data": {
      "image/png": "[encoded data removed]",
      "text/plain": [
       "<Figure size 1500x500 with 1 Axes>"
      ]
     },
     "metadata": {},
     "output_type": "display_data"
    }
   ],
   "source": [
    "grouped_sorted = grouped.sort_values(\"average_sales\",ascending=False)\n",
    "plt.figure(figsize=(15,5))\n",
    "plt.bar(grouped_sorted['recruiting_source'],grouped_sorted['average_sales'],color=[\"b\",\"g\",\"r\",\"c\",\"m\"])\n",
    "plt.title(\"Average Sales by Recruiting source\")\n",
    "plt.xlabel(\"Recruiting_Source\")\n",
    "plt.ylabel(\"Average_Sales\")"
   ]
  },
  {
   "cell_type": "code",
   "execution_count": null,
   "id": "902de8b6",
   "metadata": {},
   "outputs": [],
   "source": []
  }
 ],
 "metadata": {
  "kernelspec": {
   "display_name": "Python 3 (ipykernel)",
   "language": "python",
   "name": "python3"
  },
  "language_info": {
   "codemirror_mode": {
    "name": "ipython",
    "version": 3
   },
   "file_extension": ".py",
   "mimetype": "text/x-python",
   "name": "python",
   "nbconvert_exporter": "python",
   "pygments_lexer": "ipython3",
   "version": "3.10.9"
  }
 },
 "nbformat": 4,
 "nbformat_minor": 5
}
